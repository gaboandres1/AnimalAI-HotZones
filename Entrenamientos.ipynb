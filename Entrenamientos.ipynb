{
 "cells": [
  {
   "cell_type": "code",
   "execution_count": null,
   "id": "e64c9964",
   "metadata": {},
   "outputs": [],
   "source": []
  },
  {
   "cell_type": "code",
   "execution_count": 1,
   "id": "2e086fee",
   "metadata": {},
   "outputs": [],
   "source": [
    "import os\n",
    "import warnings\n",
    "warnings.filterwarnings('ignore')\n",
    "import tensorflow as tf\n",
    "tf.compat.v1.logging.set_verbosity(tf.compat.v1.logging.ERROR)\n",
    "\n",
    "from mlagents.trainers.trainer_util import load_config;\n",
    "from animalai_train.run_options_aai import RunOptionsAAI;\n",
    "from animalai_train.run_training_aai import run_training_aai;\n",
    "from animalai.envs.arena_config import ArenaConfig\n",
    "\n",
    "def train_setup(config_path, curriculum_path, run_id, n=4):\n",
    "    trainer_config_path = (\n",
    "        config_path\n",
    "    )\n",
    "    environment_path = \"./env/AnimalAI\"\n",
    "    #curriculum_path = \"./configurations/curriculum\"\n",
    "    #run_id = \"first_train\"\n",
    "    base_port = 5005\n",
    "    number_of_environments = n\n",
    "    number_of_arenas_per_environment = 8\n",
    "\n",
    "    args = RunOptionsAAI(\n",
    "        trainer_config=load_config(trainer_config_path),\n",
    "        env_path=environment_path,\n",
    "        run_id=run_id,\n",
    "        base_port=base_port,\n",
    "        num_envs=number_of_environments,\n",
    "        curriculum_config=curriculum_path,\n",
    "        n_arenas_per_env=number_of_arenas_per_environment,\n",
    "    )\n",
    "    return args\n",
    "\n",
    "def test_model(config_path, run_id, arena_path, seed=0):\n",
    "    args = RunOptionsAAI(\n",
    "        trainer_config=load_config(config_path),\n",
    "        env_path=\"./env/AnimalAI\",\n",
    "        run_id=run_id,\n",
    "        base_port=5005+3,\n",
    "        load_model=True,\n",
    "        train_model=False,\n",
    "        arena_config=ArenaConfig(arena_path)\n",
    "    )\n",
    "    run_training_aai(seed, args)"
   ]
  },
  {
   "cell_type": "code",
   "execution_count": 2,
   "id": "2bd664c4",
   "metadata": {},
   "outputs": [
    {
     "data": {
      "text/plain": [
       "Reusing TensorBoard on port 6006 (pid 13168), started 1 day, 6:57:05 ago. (Use '!kill 13168' to kill it.)"
      ]
     },
     "metadata": {},
     "output_type": "display_data"
    },
    {
     "data": {
      "text/html": [
       "\n",
       "      <iframe id=\"tensorboard-frame-666896e3430e3948\" width=\"100%\" height=\"800\" frameborder=\"0\">\n",
       "      </iframe>\n",
       "      <script>\n",
       "        (function() {\n",
       "          const frame = document.getElementById(\"tensorboard-frame-666896e3430e3948\");\n",
       "          const url = new URL(\"/\", window.location);\n",
       "          url.port = 6006;\n",
       "          frame.src = url;\n",
       "        })();\n",
       "      </script>\n",
       "  "
      ],
      "text/plain": [
       "<IPython.core.display.HTML object>"
      ]
     },
     "metadata": {},
     "output_type": "display_data"
    }
   ],
   "source": [
    "# logging.getLogger('tensorflow').disabled = True\n",
    "\n",
    "logs_dir = \"./summaries/\"\n",
    "os.makedirs(logs_dir, exist_ok=True)\n",
    "%load_ext tensorboard\n",
    "%tensorboard --logdir {logs_dir}\n",
    "\n",
    "config_path = \"./configurations/training_configurations/train_ml_agents_config_ppo.yaml\"\n",
    "curriculum_path = \"./configurations/curriculum\"\n",
    "args = train_setup(config_path, curriculum_path, 'first_train')\n",
    "#run_training_aai(0, args)"
   ]
  },
  {
   "cell_type": "code",
   "execution_count": 28,
   "id": "7d3dba9a",
   "metadata": {},
   "outputs": [
    {
     "name": "stdout",
     "output_type": "stream",
     "text": [
      "Converting ./models/./first_train/AnimalAI/frozen_graph_def.pb to ./models/./first_train/AnimalAI.nn\n",
      "GLOBALS: 'is_continuous_control', 'version_number', 'memory_size', 'action_output_shape'\n",
      "IN: 'visual_observation_0': [-1, 84, 84, 3] => 'policy/main_graph_0_encoder0/conv_1/BiasAdd'\n",
      "IN: 'vector_observation': [-1, 1, 1, 3] => 'policy/main_graph_0/hidden_0/BiasAdd'\n",
      "IN: 'action_masks': [-1, 1, 1, 6] => 'policy_1/strided_slice'\n",
      "IN: 'action_masks': [-1, 1, 1, 6] => 'policy_1/strided_slice_1'\n",
      "OUT: 'policy/concat/concat', 'action'\n",
      "DONE: wrote ./models/./first_train/AnimalAI.nn file.\n"
     ]
    }
   ],
   "source": [
    "run_training_aai(0, args)"
   ]
  },
  {
   "cell_type": "code",
   "execution_count": 5,
   "id": "57dae16f",
   "metadata": {},
   "outputs": [],
   "source": [
    "run_id = 'hz_ppo'\n",
    "arena_path = \"configurations/curriculum_hz/4.yml\"\n",
    "config_path = \"./configurations/training_configurations/train_ml_agents_config_ppo.yaml\"\n",
    "test_model(config_path, run_id, arena_path)"
   ]
  },
  {
   "cell_type": "code",
   "execution_count": 6,
   "id": "e00b015e",
   "metadata": {},
   "outputs": [
    {
     "name": "stdout",
     "output_type": "stream",
     "text": [
      "The tensorboard extension is already loaded. To reload it, use:\n",
      "  %reload_ext tensorboard\n"
     ]
    },
    {
     "data": {
      "text/plain": [
       "Reusing TensorBoard on port 6006 (pid 13168), started 1 day, 7:01:07 ago. (Use '!kill 13168' to kill it.)"
      ]
     },
     "metadata": {},
     "output_type": "display_data"
    },
    {
     "data": {
      "text/html": [
       "\n",
       "      <iframe id=\"tensorboard-frame-f9afdee720dcd71e\" width=\"100%\" height=\"800\" frameborder=\"0\">\n",
       "      </iframe>\n",
       "      <script>\n",
       "        (function() {\n",
       "          const frame = document.getElementById(\"tensorboard-frame-f9afdee720dcd71e\");\n",
       "          const url = new URL(\"/\", window.location);\n",
       "          url.port = 6006;\n",
       "          frame.src = url;\n",
       "        })();\n",
       "      </script>\n",
       "  "
      ],
      "text/plain": [
       "<IPython.core.display.HTML object>"
      ]
     },
     "metadata": {},
     "output_type": "display_data"
    }
   ],
   "source": [
    "config_path = \"./configurations/training_configurations/train_ml_agents_config_ppo.yaml\"\n",
    "curriculum_path = \"./configurations/curriculum_hz\"\n",
    "args = train_setup(config_path, curriculum_path, 'hotzone_ppo')\n",
    "#run_training_aai(0, args)\n",
    "logs_dir = \"./summaries/\"\n",
    "os.makedirs(logs_dir, exist_ok=True)\n",
    "%load_ext tensorboard\n",
    "%tensorboard --logdir {logs_dir}"
   ]
  },
  {
   "cell_type": "code",
   "execution_count": 7,
   "id": "4942e0cb",
   "metadata": {},
   "outputs": [
    {
     "name": "stdout",
     "output_type": "stream",
     "text": [
      "Converting ./models/hotzone_ppo/AnimalAI/frozen_graph_def.pb to ./models/hotzone_ppo/AnimalAI.nn\n",
      "GLOBALS: 'is_continuous_control', 'version_number', 'memory_size', 'action_output_shape'\n",
      "IN: 'visual_observation_0': [-1, 84, 84, 3] => 'policy/main_graph_0_encoder0/conv_1/BiasAdd'\n",
      "IN: 'vector_observation': [-1, 1, 1, 3] => 'policy/main_graph_0/hidden_0/BiasAdd'\n",
      "IN: 'action_masks': [-1, 1, 1, 6] => 'policy_1/strided_slice'\n",
      "IN: 'action_masks': [-1, 1, 1, 6] => 'policy_1/strided_slice_1'\n",
      "OUT: 'policy/concat/concat', 'action'\n",
      "DONE: wrote ./models/hotzone_ppo/AnimalAI.nn file.\n"
     ]
    }
   ],
   "source": [
    "run_training_aai(0, args)"
   ]
  },
  {
   "cell_type": "code",
   "execution_count": 30,
   "id": "3a4cc54f",
   "metadata": {},
   "outputs": [],
   "source": [
    "run_id = 'hotzone_ppo4'\n",
    "arena_path = \"configurations/test/4-17-3.yml\"\n",
    "config_path = \"./configurations/training_configurations/train_ml_agents_config_ppo.yaml\"\n",
    "test_model(config_path, run_id, arena_path)"
   ]
  },
  {
   "cell_type": "code",
   "execution_count": 33,
   "id": "02712edd",
   "metadata": {},
   "outputs": [
    {
     "name": "stdout",
     "output_type": "stream",
     "text": [
      "The tensorboard extension is already loaded. To reload it, use:\n",
      "  %reload_ext tensorboard\n"
     ]
    },
    {
     "data": {
      "text/plain": [
       "Reusing TensorBoard on port 6006 (pid 13168), started 1 day, 9:54:31 ago. (Use '!kill 13168' to kill it.)"
      ]
     },
     "metadata": {},
     "output_type": "display_data"
    },
    {
     "data": {
      "text/html": [
       "\n",
       "      <iframe id=\"tensorboard-frame-9f3ec21e8a053f9c\" width=\"100%\" height=\"800\" frameborder=\"0\">\n",
       "      </iframe>\n",
       "      <script>\n",
       "        (function() {\n",
       "          const frame = document.getElementById(\"tensorboard-frame-9f3ec21e8a053f9c\");\n",
       "          const url = new URL(\"/\", window.location);\n",
       "          url.port = 6006;\n",
       "          frame.src = url;\n",
       "        })();\n",
       "      </script>\n",
       "  "
      ],
      "text/plain": [
       "<IPython.core.display.HTML object>"
      ]
     },
     "metadata": {},
     "output_type": "display_data"
    }
   ],
   "source": [
    "config_path = \"./configurations/training_configurations/train_ml_agents_config_ppo.yaml\"\n",
    "curriculum_path = \"./configurations/curriculum_hz\"\n",
    "args = train_setup(config_path, curriculum_path, 'hotzone_ppo2')\n",
    "#run_training_aai(0, args)\n",
    "logs_dir = \"./summaries/\"\n",
    "os.makedirs(logs_dir, exist_ok=True)\n",
    "%load_ext tensorboard\n",
    "%tensorboard --logdir {logs_dir}"
   ]
  },
  {
   "cell_type": "code",
   "execution_count": 34,
   "id": "19ffdde2",
   "metadata": {},
   "outputs": [
    {
     "name": "stdout",
     "output_type": "stream",
     "text": [
      "Converting ./models/hotzone_ppo2/AnimalAI/frozen_graph_def.pb to ./models/hotzone_ppo2/AnimalAI.nn\n",
      "GLOBALS: 'is_continuous_control', 'version_number', 'memory_size', 'action_output_shape'\n",
      "IN: 'visual_observation_0': [-1, 84, 84, 3] => 'policy/main_graph_0_encoder0/conv_1/BiasAdd'\n",
      "IN: 'vector_observation': [-1, 1, 1, 3] => 'policy/main_graph_0/hidden_0/BiasAdd'\n",
      "IN: 'action_masks': [-1, 1, 1, 6] => 'policy_1/strided_slice'\n",
      "IN: 'action_masks': [-1, 1, 1, 6] => 'policy_1/strided_slice_1'\n",
      "OUT: 'policy/concat/concat', 'action'\n",
      "DONE: wrote ./models/hotzone_ppo2/AnimalAI.nn file.\n"
     ]
    }
   ],
   "source": [
    "run_training_aai(0, args)"
   ]
  },
  {
   "cell_type": "code",
   "execution_count": 45,
   "id": "febb0492",
   "metadata": {},
   "outputs": [
    {
     "name": "stdout",
     "output_type": "stream",
     "text": [
      "The tensorboard extension is already loaded. To reload it, use:\n",
      "  %reload_ext tensorboard\n"
     ]
    },
    {
     "data": {
      "text/plain": [
       "Reusing TensorBoard on port 6006 (pid 13168), started 2 days, 18:22:16 ago. (Use '!kill 13168' to kill it.)"
      ]
     },
     "metadata": {},
     "output_type": "display_data"
    },
    {
     "data": {
      "text/html": [
       "\n",
       "      <iframe id=\"tensorboard-frame-5335e1066684d428\" width=\"100%\" height=\"800\" frameborder=\"0\">\n",
       "      </iframe>\n",
       "      <script>\n",
       "        (function() {\n",
       "          const frame = document.getElementById(\"tensorboard-frame-5335e1066684d428\");\n",
       "          const url = new URL(\"/\", window.location);\n",
       "          url.port = 6006;\n",
       "          frame.src = url;\n",
       "        })();\n",
       "      </script>\n",
       "  "
      ],
      "text/plain": [
       "<IPython.core.display.HTML object>"
      ]
     },
     "metadata": {},
     "output_type": "display_data"
    }
   ],
   "source": [
    "config_path = \"./configurations/training_configurations/train_ml_agents_config_ppo.yaml\"\n",
    "curriculum_path = \"./configurations/curriculum_hz2\"\n",
    "args = train_setup(config_path, curriculum_path, 'hotzone_ppo7')\n",
    "#run_training_aai(0, args)\n",
    "logs_dir = \"./summaries/\"\n",
    "os.makedirs(logs_dir, exist_ok=True)\n",
    "%load_ext tensorboard\n",
    "%tensorboard --logdir {logs_dir}"
   ]
  },
  {
   "cell_type": "code",
   "execution_count": 46,
   "id": "20f83bc9",
   "metadata": {},
   "outputs": [
    {
     "name": "stdout",
     "output_type": "stream",
     "text": [
      "Converting ./models/hotzone_ppo7/AnimalAI/frozen_graph_def.pb to ./models/hotzone_ppo7/AnimalAI.nn\n",
      "GLOBALS: 'is_continuous_control', 'version_number', 'memory_size', 'action_output_shape'\n",
      "IN: 'visual_observation_0': [-1, 84, 84, 3] => 'policy/main_graph_0_encoder0/conv_1/BiasAdd'\n",
      "IN: 'vector_observation': [-1, 1, 1, 3] => 'policy/main_graph_0/hidden_0/BiasAdd'\n",
      "IN: 'action_masks': [-1, 1, 1, 6] => 'policy_1/strided_slice'\n",
      "IN: 'action_masks': [-1, 1, 1, 6] => 'policy_1/strided_slice_1'\n",
      "OUT: 'policy/concat/concat', 'action'\n",
      "DONE: wrote ./models/hotzone_ppo7/AnimalAI.nn file.\n"
     ]
    }
   ],
   "source": [
    "run_training_aai(0, args)"
   ]
  },
  {
   "cell_type": "code",
   "execution_count": null,
   "id": "83099919",
   "metadata": {},
   "outputs": [],
   "source": []
  }
 ],
 "metadata": {
  "kernelspec": {
   "display_name": "Python 3",
   "language": "python",
   "name": "python3"
  },
  "language_info": {
   "codemirror_mode": {
    "name": "ipython",
    "version": 3
   },
   "file_extension": ".py",
   "mimetype": "text/x-python",
   "name": "python",
   "nbconvert_exporter": "python",
   "pygments_lexer": "ipython3",
   "version": "3.7.0"
  }
 },
 "nbformat": 4,
 "nbformat_minor": 5
}
