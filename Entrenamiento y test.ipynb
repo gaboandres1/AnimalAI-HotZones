{
 "cells": [
  {
   "cell_type": "markdown",
   "id": "697abe90",
   "metadata": {},
   "source": [
    "# Entrenamiento y test\n",
    "Las siguientes funciones ejecutan el entrenamiento y test para la configuración dada."
   ]
  },
  {
   "cell_type": "code",
   "execution_count": 2,
   "id": "2e086fee",
   "metadata": {},
   "outputs": [],
   "source": [
    "import os\n",
    "import warnings\n",
    "warnings.filterwarnings('ignore')\n",
    "import tensorflow as tf\n",
    "tf.compat.v1.logging.set_verbosity(tf.compat.v1.logging.ERROR)\n",
    "\n",
    "from mlagents.trainers.trainer_util import load_config;\n",
    "from animalai_train.run_options_aai import RunOptionsAAI;\n",
    "from animalai_train.run_training_aai import run_training_aai;\n",
    "from animalai.envs.arena_config import ArenaConfig\n",
    "\n",
    "def train_setup(config_path, curriculum_path, run_id, n=4):\n",
    "    trainer_config_path = (\n",
    "        config_path\n",
    "    )\n",
    "    environment_path = \"./env/AnimalAI\"\n",
    "    #curriculum_path = \"./configurations/curriculum\"\n",
    "    #run_id = \"first_train\"\n",
    "    base_port = 5005\n",
    "    number_of_environments = n\n",
    "    number_of_arenas_per_environment = 8\n",
    "\n",
    "    args = RunOptionsAAI(\n",
    "        trainer_config=load_config(trainer_config_path),\n",
    "        env_path=environment_path,\n",
    "        run_id=run_id,\n",
    "        base_port=base_port,\n",
    "        num_envs=number_of_environments,\n",
    "        curriculum_config=curriculum_path,\n",
    "        n_arenas_per_env=number_of_arenas_per_environment,\n",
    "    )\n",
    "    return args\n",
    "\n",
    "def test_model(config_path, run_id, arena_path, seed=0):\n",
    "    args = RunOptionsAAI(\n",
    "        trainer_config=load_config(config_path),\n",
    "        env_path=\"./env/AnimalAI\",\n",
    "        run_id=run_id,\n",
    "        base_port=5005+3,\n",
    "        load_model=True,\n",
    "        train_model=False,\n",
    "        arena_config=ArenaConfig(arena_path)\n",
    "    )\n",
    "    run_training_aai(seed, args)"
   ]
  },
  {
   "cell_type": "markdown",
   "id": "14d95833",
   "metadata": {},
   "source": [
    "# Entrenamiento\n",
    "Se configura cada entrenamiento. La variable run_id es el nombre del modelo el cual ocupó los siguientes valores:\n",
    "hotzone_ppo, hotzone_ppo2, hotzone_ppo3, hotzone_ppo4, hotzone_ppo5, hotzone_ppo6, hotzone_ppo7. La siguiente celda ejecuta tensorboard para visualizar el entrenamiento en tiempo real."
   ]
  },
  {
   "cell_type": "code",
   "execution_count": 6,
   "id": "e00b015e",
   "metadata": {},
   "outputs": [
    {
     "name": "stdout",
     "output_type": "stream",
     "text": [
      "The tensorboard extension is already loaded. To reload it, use:\n",
      "  %reload_ext tensorboard\n"
     ]
    },
    {
     "data": {
      "text/plain": [
       "Reusing TensorBoard on port 6006 (pid 13168), started 1 day, 7:01:07 ago. (Use '!kill 13168' to kill it.)"
      ]
     },
     "metadata": {},
     "output_type": "display_data"
    },
    {
     "data": {
      "text/html": [
       "\n",
       "      <iframe id=\"tensorboard-frame-f9afdee720dcd71e\" width=\"100%\" height=\"800\" frameborder=\"0\">\n",
       "      </iframe>\n",
       "      <script>\n",
       "        (function() {\n",
       "          const frame = document.getElementById(\"tensorboard-frame-f9afdee720dcd71e\");\n",
       "          const url = new URL(\"/\", window.location);\n",
       "          url.port = 6006;\n",
       "          frame.src = url;\n",
       "        })();\n",
       "      </script>\n",
       "  "
      ],
      "text/plain": [
       "<IPython.core.display.HTML object>"
      ]
     },
     "metadata": {},
     "output_type": "display_data"
    }
   ],
   "source": [
    "run_id = 'hotzone_ppo4'\n",
    "config_path = \"./configurations/training_configurations/train_ml_agents_config_ppo.yaml\"\n",
    "curriculum_path = \"./configurations/curriculum_hz2\"\n",
    "args = train_setup(config_path, curriculum_path, 'hotzone_ppo')\n",
    "#run_training_aai(0, args)\n",
    "logs_dir = \"./summaries/\"\n",
    "os.makedirs(logs_dir, exist_ok=True)\n",
    "%load_ext tensorboard\n",
    "%tensorboard --logdir {logs_dir}"
   ]
  },
  {
   "cell_type": "markdown",
   "id": "ce419685",
   "metadata": {},
   "source": [
    "Se ejecuta el entrenamiento"
   ]
  },
  {
   "cell_type": "code",
   "execution_count": null,
   "id": "4942e0cb",
   "metadata": {},
   "outputs": [],
   "source": [
    "run_training_aai(0, args)"
   ]
  },
  {
   "cell_type": "markdown",
   "id": "08380d44",
   "metadata": {},
   "source": [
    "# Test\n",
    "En la variable arena_path se indica el entorno donde se quiere evaluar la política. Con la función test_model se abre una ventana donde el agente seleccionado resolverá el entorno indicado."
   ]
  },
  {
   "cell_type": "code",
   "execution_count": 4,
   "id": "3a4cc54f",
   "metadata": {},
   "outputs": [],
   "source": [
    "run_id = 'hotzone_ppo2'\n",
    "arena_path = \"configurations/test/4-4-3.yml\"\n",
    "config_path = \"./configurations/training_configurations/train_ml_agents_config_ppo.yaml\"\n",
    "test_model(config_path, run_id, arena_path)"
   ]
  }
 ],
 "metadata": {
  "kernelspec": {
   "display_name": "Python 3",
   "language": "python",
   "name": "python3"
  },
  "language_info": {
   "codemirror_mode": {
    "name": "ipython",
    "version": 3
   },
   "file_extension": ".py",
   "mimetype": "text/x-python",
   "name": "python",
   "nbconvert_exporter": "python",
   "pygments_lexer": "ipython3",
   "version": "3.7.0"
  }
 },
 "nbformat": 4,
 "nbformat_minor": 5
}
